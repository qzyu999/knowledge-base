{
 "cells": [
  {
   "cell_type": "markdown",
   "metadata": {},
   "source": [
    "<h3><center>Decomposition of Total Sum of Squares</center></h3>"
   ]
  },
  {
   "cell_type": "markdown",
   "metadata": {},
   "source": [
    "<i></i> | <i></i> | <i></i> | <i></i> | <i></i> | <i></i> | <i></i> | <i></i> | <i></i>\n",
    "---: | ---: | ---: | ---: | ---: | ---: | ---: | ---: | ---:\n",
    " | Store IDs | <i></i> | <i></i> | <i></i> | Total | Mean | Count\n",
    "Package Design | S1 | S2 | S3 | S4 | $(Y_{i\\cdot})$ | $\\bar{Y}_{i\\cdot}$ | $n_i$\n",
    "D1 | 11 | 17 | 16 | 14 | 58 | 14.5 | 4\n",
    "D2 | 12 | 10 | 15 | 19 | 56 | 14 | 4\n",
    "D3 | 23 | 20 | 18 | 17 | 78 | 19.5 | 4\n",
    "Total | <i></i> | <i></i> | <i></i> | <i></i> | $Y_{..}=192$ | $\\bar{Y}_{..}=16$ | $n_T=12$\n"
   ]
  },
  {
   "cell_type": "code",
   "execution_count": 1,
   "metadata": {},
   "outputs": [],
   "source": [
    "D1 = [11, 17, 16, 14] # Data from table\n",
    "D2 = [12, 10, 15, 19]\n",
    "D3 = [23, 20, 18, 17]\n",
    "n1 = n2 = n3 = 4\n",
    "n_T = n1 + n2 + n3\n",
    "r = 3"
   ]
  },
  {
   "cell_type": "markdown",
   "metadata": {},
   "source": [
    "<h3><center>$\\bar{Y}_{i.} = \\frac{1}{n_i} \\sum_{j=1}^{n_i} Y_{ij} = \\frac{1}{n_i}Y_{i.}$</center></h3>"
   ]
  },
  {
   "cell_type": "code",
   "execution_count": 2,
   "metadata": {},
   "outputs": [
    {
     "name": "stdout",
     "output_type": "stream",
     "text": [
      "First factor level mean:\t14.5 \n",
      "Second factor level mean:\t14.0 \n",
      "Third factor level mean:\t19.5\n"
     ]
    }
   ],
   "source": [
    "Ybar1 = sum(D1) / n1 # Calculate factor level means\n",
    "Ybar2 = sum(D2) / n2\n",
    "Ybar3 = sum(D3) / n3\n",
    "print('First factor level mean:\\t{} \\n\\\n",
    "Second factor level mean:\\t{} \\n\\\n",
    "Third factor level mean:\\t{}'.format(Ybar1, Ybar2, Ybar3))"
   ]
  },
  {
   "cell_type": "markdown",
   "metadata": {},
   "source": [
    "<h3><center>$\\bar{Y}_{..} = \\frac{1}{n_T} \\sum_{i=1}^n n_i \\bar{Y}_{i.} \\rightarrow \\mu_.$</center></h3>"
   ]
  },
  {
   "cell_type": "code",
   "execution_count": 3,
   "metadata": {},
   "outputs": [
    {
     "name": "stdout",
     "output_type": "stream",
     "text": [
      "Overall sample mean:\t16.0\n"
     ]
    }
   ],
   "source": [
    "n_list = [n1, n2, n3] # Calculate overall mean\n",
    "Ybar_list = [Ybar1, Ybar2, Ybar3]\n",
    "Ybar_overall = []\n",
    "for i in range(len(n_list)):\n",
    "    Ybar_overall.append(n_list[i] * Ybar_list[i])\n",
    "Ybar_overall = (1 / n_T) * sum(Ybar_overall)\n",
    "print('Overall sample mean:\\t{}'.format(Ybar_overall))"
   ]
  },
  {
   "cell_type": "markdown",
   "metadata": {},
   "source": [
    "<h3><center>$SSTO = \\sum_{i=1}^r \\sum_{j=1}^{n_i} (Y_{ij}-\\bar{Y}_{..})^2$</center></h3>"
   ]
  },
  {
   "cell_type": "code",
   "execution_count": 4,
   "metadata": {},
   "outputs": [
    {
     "name": "stdout",
     "output_type": "stream",
     "text": [
      "Total Sum of Squares:\t162.0\n"
     ]
    }
   ],
   "source": [
    "Y_ij = D1 + D2 + D3 # Calculate SSTO\n",
    "SSTO = []\n",
    "for i in range(n_T):\n",
    "    SSTO.append((Y_ij[i] - Ybar_overall)**2)\n",
    "SSTO = sum(SSTO)\n",
    "print('Total Sum of Squares:\\t{}'.format(SSTO))"
   ]
  },
  {
   "cell_type": "markdown",
   "metadata": {},
   "source": [
    "<h3><center>$SSE = \\sum_{i=1}^r \\sum_{j=1}^{n_i} (Y_{ij} - \\bar{Y}_{i.})^2$</center></h3>"
   ]
  },
  {
   "cell_type": "code",
   "execution_count": 5,
   "metadata": {},
   "outputs": [
    {
     "name": "stdout",
     "output_type": "stream",
     "text": [
      "Error Sum of Squares:\t88.0\n"
     ]
    }
   ],
   "source": [
    "SSE = [] # Calculate SSE\n",
    "for i in range(n1):\n",
    "    SSE.extend([(D1[i] - Ybar1)**2, (D2[i] - Ybar2)**2, (D3[i] - Ybar3)**2])\n",
    "SSE = sum(SSE)\n",
    "print('Error Sum of Squares:\\t{}'.format(SSE))"
   ]
  },
  {
   "cell_type": "markdown",
   "metadata": {},
   "source": [
    "<h3><center>$SSTR = \\sum_{i=1}^r n_i(\\bar{Y}_{i.}-\\bar{Y}_{..})^2$</center></h3>"
   ]
  },
  {
   "cell_type": "code",
   "execution_count": 6,
   "metadata": {},
   "outputs": [
    {
     "name": "stdout",
     "output_type": "stream",
     "text": [
      "Treatment Sum of Squares:\t74.0\n"
     ]
    }
   ],
   "source": [
    "SSTR = [] # Calculate SSTR\n",
    "for i in range(r):\n",
    "    SSTR.append(n_list[i] * (Ybar_list[i] - Ybar_overall)**2)\n",
    "SSTR = sum(SSTR)\n",
    "print('Treatment Sum of Squares:\\t{}'.format(SSTR))"
   ]
  },
  {
   "cell_type": "markdown",
   "metadata": {},
   "source": [
    "<h3><center>$SSTO = SSE + SSTR$</center></h3>\n",
    "<h3><center>$\\sum_{i=1}^r \\sum_{j=1}^{n_i} (Y_{ij}-\\bar{Y}_{..})^2 = \\sum_{i=1}^r \\sum_{j=1}^{n_i} (Y_{ij} - \\bar{Y}_{i.})^2 + \\sum_{i=1}^r n_i(\\bar{Y}_{i.}-\\bar{Y}_{..})^2$</center></h3>"
   ]
  },
  {
   "cell_type": "code",
   "execution_count": 7,
   "metadata": {},
   "outputs": [
    {
     "data": {
      "text/plain": [
       "True"
      ]
     },
     "execution_count": 7,
     "metadata": {},
     "output_type": "execute_result"
    }
   ],
   "source": [
    "SSTO == SSE + SSTR"
   ]
  }
 ],
 "metadata": {
  "kernelspec": {
   "display_name": "Python 3",
   "language": "python",
   "name": "python3"
  },
  "language_info": {
   "codemirror_mode": {
    "name": "ipython",
    "version": 3
   },
   "file_extension": ".py",
   "mimetype": "text/x-python",
   "name": "python",
   "nbconvert_exporter": "python",
   "pygments_lexer": "ipython3",
   "version": "3.7.0"
  }
 },
 "nbformat": 4,
 "nbformat_minor": 2
}
